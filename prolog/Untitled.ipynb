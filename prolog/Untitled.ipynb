{
 "cells": [
  {
   "cell_type": "code",
   "execution_count": 6,
   "id": "6356aebd-d176-4958-8495-b85983e16bec",
   "metadata": {},
   "outputs": [
    {
     "data": {
      "text/plain": [
       "\u001b[1mtrue"
      ]
     },
     "metadata": {},
     "output_type": "display_data"
    }
   ],
   "source": [
    "[jsonparse]."
   ]
  },
  {
   "cell_type": "code",
   "execution_count": 31,
   "id": "c8465642-a52a-4287-9958-7b7231cf08b6",
   "metadata": {},
   "outputs": [
    {
     "data": {
      "text/plain": [
       "\u001b[1mX = [OPENBRACKET,CLOSEDBRACKET,OPENCURLY,CLOSEDCURLY]"
      ]
     },
     "metadata": {},
     "output_type": "display_data"
    }
   ],
   "source": [
    "string_tokens('[]{}   ', X)."
   ]
  },
  {
   "cell_type": "code",
   "execution_count": null,
   "id": "c962d99b-51cb-49f4-904f-4436657f1698",
   "metadata": {},
   "outputs": [],
   "source": [
    "jsonread(\"in.txt\", X)."
   ]
  },
  {
   "cell_type": "code",
   "execution_count": null,
   "id": "447cf260-fbba-4a33-a6e3-43f3b6bb91e9",
   "metadata": {
    "tags": []
   },
   "outputs": [],
   "source": [
    "jsonread(\"in.txt\", X), term_json(X,Y)."
   ]
  },
  {
   "cell_type": "code",
   "execution_count": 33,
   "id": "9fe18b69-d1f0-4969-b64c-b74d9167b99f",
   "metadata": {},
   "outputs": [
    {
     "data": {
      "text/html": [
       "\n",
       "            <style>\n",
       "            details  {\n",
       "              font-family: Menlo, Consolas, 'DejaVu Sans Mono', monospace; font-size: 13px;\n",
       "            }\n",
       "\n",
       "            details > summary {\n",
       "              cursor: pointer;\n",
       "            }\n",
       "            </style>\n",
       "            <details><summary>Previously defined clauses of user:jsondump/2 were retracted (click to expand)</summary><pre>:- dynamic jsondump/2.\n",
       "\n",
       "jsondump(A, B) :-\n",
       "    json_string_(A, B, 0, 0, _).\n",
       "</pre></details>"
      ],
      "text/plain": [
       "Previously defined clauses of user:jsondump/2 were retracted:\n",
       ":- dynamic jsondump/2.\n",
       "\n",
       "jsondump(A, B) :-\n",
       "    json_string_(A, B, 0, 0, _).\n"
      ]
     },
     "metadata": {
      "application/json": {}
     },
     "output_type": "display_data"
    },
    {
     "data": {
      "text/plain": [
       "% Asserting clauses for user:jsondump/2\n"
      ]
     },
     "metadata": {},
     "output_type": "display_data"
    },
    {
     "data": {
      "text/html": [
       "\n",
       "            <style>\n",
       "            details  {\n",
       "              font-family: Menlo, Consolas, 'DejaVu Sans Mono', monospace; font-size: 13px;\n",
       "            }\n",
       "\n",
       "            details > summary {\n",
       "              cursor: pointer;\n",
       "            }\n",
       "            </style>\n",
       "            <details><summary>Previously defined clauses of user:json_string_indent/5 were retracted (click to expand)</summary><pre>:- dynamic json_string_indent/5.\n",
       "\n",
       "json_string_indent(_, _, _, _, []).\n",
       "</pre></details>"
      ],
      "text/plain": [
       "Previously defined clauses of user:json_string_indent/5 were retracted:\n",
       ":- dynamic json_string_indent/5.\n",
       "\n",
       "json_string_indent(_, _, _, _, []).\n"
      ]
     },
     "metadata": {
      "application/json": {}
     },
     "output_type": "display_data"
    },
    {
     "data": {
      "text/plain": [
       "% Asserting clauses for user:json_string_indent/5\n"
      ]
     },
     "metadata": {},
     "output_type": "display_data"
    },
    {
     "data": {
      "text/html": [
       "\n",
       "            <style>\n",
       "            details  {\n",
       "              font-family: Menlo, Consolas, 'DejaVu Sans Mono', monospace; font-size: 13px;\n",
       "            }\n",
       "\n",
       "            details > summary {\n",
       "              cursor: pointer;\n",
       "            }\n",
       "            </style>\n",
       "            <details><summary>Previously defined clauses of user:json_string_/5 were retracted (click to expand)</summary><pre>:- dynamic json_string_/5.\n",
       "\n",
       "json_string_([j, s, o, n, o, b, j, '(', '[', ']', ')'|A], \"{}\", _, _, A).\n",
       "json_string_([j, s, o, n, a, r, r, a, y, '(', '[', ']', ')'|A], \"[]\", _, _, A).\n",
       "</pre></details>"
      ],
      "text/plain": [
       "Previously defined clauses of user:json_string_/5 were retracted:\n",
       ":- dynamic json_string_/5.\n",
       "\n",
       "json_string_([j, s, o, n, o, b, j, '(', '[', ']', ')'|A], \"{}\", _, _, A).\n",
       "json_string_([j, s, o, n, a, r, r, a, y, '(', '[', ']', ')'|A], \"[]\", _, _, A).\n"
      ]
     },
     "metadata": {
      "application/json": {}
     },
     "output_type": "display_data"
    },
    {
     "data": {
      "text/plain": [
       "% Asserting clauses for user:json_string_/5\n"
      ]
     },
     "metadata": {},
     "output_type": "display_data"
    }
   ],
   "source": [
    "%jsondump(J, S)/2\n",
    "\n",
    "jsondump(J, S) :-\n",
    "    json_string_(J, S , 0, 0, Rest).\n"
   ]
  },
  {
   "cell_type": "code",
   "execution_count": 3,
   "id": "eb3752bf-99db-4f45-8169-d16f485309ac",
   "metadata": {},
   "outputs": [
    {
     "data": {
      "text/html": [
       "\n",
       "            <style>\n",
       "            details  {\n",
       "              font-family: Menlo, Consolas, 'DejaVu Sans Mono', monospace; font-size: 13px;\n",
       "            }\n",
       "\n",
       "            details > summary {\n",
       "              cursor: pointer;\n",
       "            }\n",
       "            </style>\n",
       "            <details><summary>Previously defined clauses of user:prefix_list_rest/3 were retracted (click to expand)</summary><pre>:- dynamic prefix_list_rest/3.\n",
       "\n",
       "prefix_list_rest(A, B, C) :-\n",
       "    atom_chars(A, D),\n",
       "    append(D, B, C).\n",
       "</pre></details>"
      ],
      "text/plain": [
       "Previously defined clauses of user:prefix_list_rest/3 were retracted:\n",
       ":- dynamic prefix_list_rest/3.\n",
       "\n",
       "prefix_list_rest(A, B, C) :-\n",
       "    atom_chars(A, D),\n",
       "    append(D, B, C).\n"
      ]
     },
     "metadata": {
      "application/json": {}
     },
     "output_type": "display_data"
    },
    {
     "data": {
      "text/plain": [
       "% Asserting clauses for user:prefix_list_rest/3\n"
      ]
     },
     "metadata": {},
     "output_type": "display_data"
    }
   ],
   "source": [
    "%prefix_list_rest/3 takes a prefix as a string\n",
    "% checks if it's a prefix of a list of chars\n",
    "prefix_list_rest(String, L, R):-\n",
    "    atom_chars(String, Cs),\n",
    "    append(Cs, R, L).\n",
    "    "
   ]
  },
  {
   "cell_type": "code",
   "execution_count": 4,
   "id": "e82006a0-9854-458b-aeec-660e11f7baa7",
   "metadata": {},
   "outputs": [
    {
     "data": {
      "text/plain": [
       "\u001b[1mX = [i,a]"
      ]
     },
     "metadata": {},
     "output_type": "display_data"
    }
   ],
   "source": [
    "prefix_list_rest(\"c\", ['c', 'i', 'a'], X)."
   ]
  },
  {
   "cell_type": "code",
   "execution_count": 53,
   "id": "586d3a06-d11e-4395-9931-afe4ee09a236",
   "metadata": {},
   "outputs": [
    {
     "data": {
      "text/html": [
       "\n",
       "            <style>\n",
       "            details  {\n",
       "              font-family: Menlo, Consolas, 'DejaVu Sans Mono', monospace; font-size: 13px;\n",
       "            }\n",
       "\n",
       "            details > summary {\n",
       "              cursor: pointer;\n",
       "            }\n",
       "            </style>\n",
       "            <details><summary>Previously defined clauses of user:json_string_indent/5 were retracted (click to expand)</summary><pre>:- dynamic json_string_indent/5.\n",
       "\n",
       "json_string_indent(_, _, _, _, []).\n",
       "</pre></details>"
      ],
      "text/plain": [
       "Previously defined clauses of user:json_string_indent/5 were retracted:\n",
       ":- dynamic json_string_indent/5.\n",
       "\n",
       "json_string_indent(_, _, _, _, []).\n"
      ]
     },
     "metadata": {
      "application/json": {}
     },
     "output_type": "display_data"
    },
    {
     "data": {
      "text/plain": [
       "% Asserting clauses for user:json_string_indent/5\n"
      ]
     },
     "metadata": {},
     "output_type": "display_data"
    },
    {
     "data": {
      "text/html": [
       "\n",
       "            <style>\n",
       "            details  {\n",
       "              font-family: Menlo, Consolas, 'DejaVu Sans Mono', monospace; font-size: 13px;\n",
       "            }\n",
       "\n",
       "            details > summary {\n",
       "              cursor: pointer;\n",
       "            }\n",
       "            </style>\n",
       "            <details><summary>Previously defined clauses of user:json_string_/5 were retracted (click to expand)</summary><pre>:- dynamic json_string_/5.\n",
       "\n",
       "json_string_([_|A], \"[]\", _, _, A) :-\n",
       "    atom_chars(\"jsonarray([\", B),\n",
       "    append(B, _, [']', ')']).\n",
       "</pre></details>"
      ],
      "text/plain": [
       "Previously defined clauses of user:json_string_/5 were retracted:\n",
       ":- dynamic json_string_/5.\n",
       "\n",
       "json_string_([_|A], \"[]\", _, _, A) :-\n",
       "    atom_chars(\"jsonarray([\", B),\n",
       "    append(B, _, [']', ')']).\n"
      ]
     },
     "metadata": {
      "application/json": {}
     },
     "output_type": "display_data"
    },
    {
     "data": {
      "text/plain": [
       "% Asserting clauses for user:json_string_/5\n"
      ]
     },
     "metadata": {},
     "output_type": "display_data"
    }
   ],
   "source": [
    "%json_string_/5 %% JsonObj, String, OldIndent, NewIndent Rest\n",
    "\n",
    "%% empty rest, basecase\n",
    "json_string_indent(_, _, _, _, []).\n",
    "\n",
    "json_string_([O | Js], `[]`, OldI, NewI, Js):-\n",
    "    atom_chars(\"jsonarray([\" , A),\n",
    "    append(A, B, [']',')'])."
   ]
  },
  {
   "cell_type": "code",
   "execution_count": null,
   "id": "81957a10-0379-4abb-936b-9f01002dcb3c",
   "metadata": {},
   "outputs": [
    {
     "data": {
      "text/plain": [
       "\u001b[1;31mfalse"
      ]
     },
     "metadata": {},
     "output_type": "display_data"
    }
   ],
   "source": [
    "json_string_(`jsonarray([])`, S , 0, 0, R)."
   ]
  },
  {
   "cell_type": "code",
   "execution_count": 42,
   "id": "281a07d5-0229-408f-9454-2536d1438f48",
   "metadata": {},
   "outputs": [
    {
     "data": {
      "text/plain": [
       "\u001b[1mX = []"
      ]
     },
     "metadata": {},
     "output_type": "display_data"
    }
   ],
   "source": [
    "atom_chars(\"\", X)."
   ]
  },
  {
   "cell_type": "code",
   "execution_count": 38,
   "id": "3dbedbde-3726-403d-9470-de42f518fbdf",
   "metadata": {},
   "outputs": [
    {
     "data": {
      "text/plain": [
       "\u001b[1mX = jsonarray([1,2,3]),\n",
       "C = [j,s,o,n,a,r,r,a,y,(,[,1,,,2,,,3,],)],\n",
       "A = [j,s,o,n,a,r,r,a,y,(,[],\n",
       "B = [1,,,2,,,3,],)]"
      ]
     },
     "metadata": {},
     "output_type": "display_data"
    }
   ],
   "source": [
    "jsonparse('[1,2,3]', X),\n",
    "json_chars(X, C),\n",
    "atom_chars(\"jsonarray([\",A),\n",
    "append(A,B, C)."
   ]
  },
  {
   "cell_type": "code",
   "execution_count": null,
   "id": "629a3260-d5b1-4000-8b1e-c5c3e7c3f266",
   "metadata": {},
   "outputs": [
    {
     "data": {
      "text/plain": [
       "[j,s,o,n,a,r,r,a,y,(,[,1,,,2,,,3,],)]"
      ]
     },
     "metadata": {},
     "output_type": "display_data"
    },
    {
     "data": {
      "text/plain": [
       "\u001b[1;31mfalse"
      ]
     },
     "metadata": {},
     "output_type": "display_data"
    }
   ],
   "source": [
    "jsonparse('[]', X),\n",
    "json_chars(X, R1),\n",
    "write(R1),\n",
    "json_string_(R1, S, I, NI, R)."
   ]
  },
  {
   "cell_type": "code",
   "execution_count": null,
   "id": "6e8a3120-d197-4314-ae23-23f86aebcaed",
   "metadata": {},
   "outputs": [],
   "source": [
    "json_string_([j,s,o,n,o,b,j,'('], S, I, I, Rest)."
   ]
  },
  {
   "cell_type": "code",
   "execution_count": 4,
   "id": "6f7b9759-97c5-4e34-9c1c-730f2a82ec58",
   "metadata": {},
   "outputs": [
    {
     "data": {
      "text/plain": [
       "% Asserting clauses for user:json_chars/2\n"
      ]
     },
     "metadata": {},
     "output_type": "display_data"
    }
   ],
   "source": [
    "json_chars(J, C):-\n",
    "    term_to_atom(J, A),\n",
    "    atom_chars(A, C)."
   ]
  },
  {
   "cell_type": "code",
   "execution_count": null,
   "id": "d2e21083-9d23-481e-892c-95ed08ab6d29",
   "metadata": {},
   "outputs": [],
   "source": [
    "term_json(Term, Json) :-\n",
    "    phrase(parse_object(Term), JsonChars),\n",
    "    atom_chars(Json, JsonChars).\n",
    "    \n",
    "parse_object(jsonobj([])) -->\n",
    "    !,\n",
    "    ['{'],\n",
    "    ['}'].\n",
    "    \n",
    "parse_object(jsonobj(Members)) -->\n",
    "    ['{'],\n",
    "    parse_members(Members),\n",
    "    ['}'].\n",
    "\n",
    "% members\n",
    "parse_members([Pair]) -->\n",
    "    !,\n",
    "    parse_pair(Pair).\n",
    "\n",
    "parse_members([Pair|Pairs]) -->\n",
    "    parse_pair(Pair),\n",
    "    [','],\n",
    "    parse_members(Pairs).\n",
    "\n",
    "%pair\n",
    "parse_pair((Key, Value)) -->\n",
    "    parse_key(Key),\n",
    "    [':'],\n",
    "    parse_value(Value).\n",
    "\n",
    "parse_key(Key) -->\n",
    "    parse_atom(Key).\n",
    "\n",
    "parse_value(jsonarray(Value)) -->\n",
    "    %{ util:looks_like_list(Value) }, % Must precede atom/1 check!\n",
    "    !,\n",
    "    parse_array(Value).\n",
    "\n",
    "parse_value(json(Value)) -->\n",
    "    !,\n",
    "    parse_object(json(Value)).\n",
    "\n",
    "parse_value(+Value) -->\n",
    "    !,\n",
    "    parse_symbol(Value).\n",
    "    \n",
    "parse_value(Value) -->\n",
    "    { core:atom(Value) },\n",
    "    !,\n",
    "    parse_atom(Value).\n",
    "    \n",
    "parse_value(Value) -->\n",
    "    { core:number(Value) },\n",
    "    !,\n",
    "    parse_number(Value).\n",
    "\n",
    "parse_atom(Atom) -->\n",
    "    ['\"'],\n",
    "    { core:atom_chars(Atom, Chars) },\n",
    "    parse_string_chars(Chars),\n",
    "    ['\"'].\n",
    "\n",
    "parse_string_chars([]) --> !, [].\n",
    "parse_string_chars(Chars) -->\n",
    "    parse_special_chars(Chars, Chars1),\n",
    "    !,\n",
    "    parse_string_chars(Chars1).\n",
    "\n",
    "parse_string_chars([Char|Chars]) -->\n",
    "    [Char],\n",
    "    parse_string_chars(Chars).\n",
    "\n",
    "parse_special_chars(['\\\\'|Chars], Chars1) -->\n",
    "    ['\\\\'],\n",
    "    !,\n",
    "    parse_escape_sequence(Chars, Chars1).\n",
    "parse_special_chars([Char|Chars], Chars) -->\n",
    "    { single_special_char(Char, EscapedChar) },\n",
    "    ['\\\\',EscapedChar].\n",
    "\n",
    "single_special_char('\"',  '\"').\n",
    "single_special_char('/',  '/').\n",
    "single_special_char('\\b', 'b').\n",
    "single_special_char('\\f', 'f').\n",
    "single_special_char('\\n', 'n').\n",
    "single_special_char('\\r', 'r').\n",
    "\n",
    "parse_escape_sequence(['u',Hex1,Hex2,Hex3,Hex4|Chars], Chars) -->\n",
    "    ['u',Hex1,Hex2,Hex3,Hex4],\n",
    "    !.\n",
    "parse_escape_sequence(Chars, Chars) -->\n",
    "    ['\\\\'].\n",
    "\n",
    "parse_number(Number) -->\n",
    "    { core:number_chars(Number, Chars) },\n",
    "    Chars.\n",
    "\n",
    "parse_array([]) -->\n",
    "    !,\n",
    "    ['['],\n",
    "    [']'].\n",
    "parse_array(Values) -->\n",
    "    ['['],\n",
    "    parse_array_values(Values),\n",
    "    [']'].\n",
    "\n",
    "parse_array_values([Value]) -->\n",
    "    !,\n",
    "    parse_value(Value).\n",
    "parse_array_values([Value|Values]) -->\n",
    "    parse_value(Value),\n",
    "    [','],\n",
    "    parse_array_values(Values).\n",
    "\n",
    "parse_symbol(true)  --> !, [t,r,u,e].\n",
    "parse_symbol(false) --> !, [f,a,l,s,e].\n",
    "parse_symbol(null)  --> !, [n,u,l,l].\n",
    "\n",
    "looks_like_list([]).\n",
    "looks_like_list([_|_])."
   ]
  },
  {
   "cell_type": "code",
   "execution_count": null,
   "id": "cc043125-4bdf-47d3-8181-32558d165f72",
   "metadata": {},
   "outputs": [],
   "source": [
    "term_json(Term, Json) :-\n",
    "    phrase(parse_object(Term), JsonChars),\n",
    "    atom_chars(Json, JsonChars).\n",
    "    \n",
    "parse_object(jsonobj([])) -->\n",
    "    !,\n",
    "    ['{'],\n",
    "    ['}'].\n",
    "    \n",
    "parse_object(jsonobj(Members)) -->\n",
    "    ['{'],\n",
    "    parse_members(Members),\n",
    "    ['}'].\n",
    "\n",
    "% members\n",
    "parse_members([Pair]) -->\n",
    "    !,\n",
    "    parse_pair(Pair).\n",
    "\n",
    "parse_members([Pair|Pairs]) -->\n",
    "    parse_pair(Pair),\n",
    "    [','],\n",
    "    parse_members(Pairs).\n",
    "\n",
    "%pair\n",
    "parse_pair((Key, Value)) -->\n",
    "    parse_key(Key),\n",
    "    [':'],\n",
    "    parse_value(Value).\n",
    "\n",
    "parse_key(Key) -->\n",
    "    parse_atom(Key).\n",
    "\n",
    "parse_value(jsonarray(Value)) -->\n",
    "    { util:looks_like_list(Value) }, % Must precede atom/1 check!\n",
    "    !,\n",
    "    parse_array(Value).\n",
    "\n",
    "parse_value(json(Value)) -->\n",
    "    !,\n",
    "    parse_object(json(Value)).\n",
    "\n",
    "parse_value(+Value) -->\n",
    "    !,\n",
    "    parse_symbol(Value).\n",
    "    \n",
    "parse_value(Value) -->\n",
    "    { core:atom(Value) },\n",
    "    !,\n",
    "    parse_atom(Value).\n",
    "    \n",
    "parse_value(Value) -->\n",
    "    { core:number(Value) },\n",
    "    !,\n",
    "    parse_number(Value).\n",
    "\n",
    "parse_atom(Atom) -->\n",
    "    ['\"'],\n",
    "    { core:atom_chars(Atom, Chars) },\n",
    "    parse_string_chars(Chars),\n",
    "    ['\"'].\n",
    "\n",
    "parse_string_chars([]) --> !, [].\n",
    "parse_string_chars(Chars) -->\n",
    "    parse_special_chars(Chars, Chars1),\n",
    "    !,\n",
    "    parse_string_chars(Chars1).\n",
    "\n",
    "parse_string_chars([Char|Chars]) -->\n",
    "    [Char],\n",
    "    parse_string_chars(Chars).\n",
    "\n",
    "parse_special_chars(['\\\\'|Chars], Chars1) -->\n",
    "    ['\\\\'],\n",
    "    !,\n",
    "    parse_escape_sequence(Chars, Chars1).\n",
    "parse_special_chars([Char|Chars], Chars) -->\n",
    "    { single_special_char(Char, EscapedChar) },\n",
    "    ['\\\\',EscapedChar].\n",
    "\n",
    "single_special_char('\"',  '\"').\n",
    "single_special_char('/',  '/').\n",
    "single_special_char('\\b', 'b').\n",
    "single_special_char('\\f', 'f').\n",
    "single_special_char('\\n', 'n').\n",
    "single_special_char('\\r', 'r').\n",
    "\n",
    "parse_escape_sequence(['u',Hex1,Hex2,Hex3,Hex4|Chars], Chars) -->\n",
    "    ['u',Hex1,Hex2,Hex3,Hex4],\n",
    "    !.\n",
    "parse_escape_sequence(Chars, Chars) -->\n",
    "    ['\\\\'].\n",
    "\n",
    "parse_number(Number) -->\n",
    "    { core:number_chars(Number, Chars) },\n",
    "    Chars.\n",
    "\n",
    "parse_array([]) -->\n",
    "    !,\n",
    "    ['['],\n",
    "    [']'].\n",
    "parse_array(Values) -->\n",
    "    ['['],\n",
    "    parse_array_values(Values),\n",
    "    [']'].\n",
    "\n",
    "parse_array_values([Value]) -->\n",
    "    !,\n",
    "    parse_value(Value).\n",
    "parse_array_values([Value|Values]) -->\n",
    "    parse_value(Value),\n",
    "    [','],\n",
    "    parse_array_values(Values).\n",
    "\n",
    "parse_symbol(true)  --> !, [t,r,u,e].\n",
    "parse_symbol(false) --> !, [f,a,l,s,e].\n",
    "parse_symbol(null)  --> !, [n,u,l,l].\n",
    "\n",
    "looks_like_list([]).\n",
    "looks_like_list([_|_])."
   ]
  }
 ],
 "metadata": {
  "kernelspec": {
   "display_name": "Prolog",
   "language": "prolog",
   "name": "prolog_kernel"
  },
  "language_info": {
   "codemirror_mode": "prolog",
   "file_extension": ".pl",
   "mimetype": "text/x-prolog",
   "name": "Prolog"
  }
 },
 "nbformat": 4,
 "nbformat_minor": 5
}
